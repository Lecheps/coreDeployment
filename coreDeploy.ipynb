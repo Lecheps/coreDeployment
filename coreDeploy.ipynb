{
 "cells": [
  {
   "cell_type": "code",
   "execution_count": null,
   "metadata": {},
   "outputs": [],
   "source": [
    "from subprocess import Popen, PIPE, CalledProcessError\n",
    "import re\n",
    "import requests\n",
    "from bs4 import BeautifulSoup\n",
    "from selenium import webdriver\n",
    "import platform\n",
    "import fileinput\n",
    "import os.path\n",
    "import shutil\n",
    "import getpass\n",
    "from os import system\n",
    "import time\n",
    "\n",
    "\n",
    "options = {'stdout': PIPE, 'stderr': PIPE, 'bufsize' : 1, 'universal_newlines' : True, 'shell' : False}\n",
    "if (platform.system() == 'Windows'):\n",
    "    options['shell'] = True\n",
    "    #Packages required to generate ssh keys in windows\n",
    "    from cryptography.hazmat.primitives import serialization as crypto_serialization\n",
    "    from cryptography.hazmat.primitives.asymmetric import rsa\n",
    "    from cryptography.hazmat.backends import default_backend as crypto_default_backend\n",
    "\n",
    "def callPopen(cmd):\n",
    "    print(cmd)\n",
    "    with Popen(cmd.split(),**options) as p:\n",
    "        for line in p.stdout:\n",
    "            print(line, end='')\n",
    "        for line in p.stderr:\n",
    "            print(line, end='')\n",
    "        if p.returncode != (0 or None):\n",
    "            raise CalledProcessError(p.returncode, p.args)\n",
    "\n",
    "def isInstance(name):\n",
    "    instanceExists=False\n",
    "    ip=''\n",
    "    with Popen('gcloud compute instances list'.split(),**options) as p:\n",
    "        for line in p.stdout:\n",
    "            if re.match('^{}'.format(name), line):\n",
    "                instanceExists=True\n",
    "                ip = line.strip().split()\n",
    "                ip = ip[4]\n",
    "        for line in p.stderr:\n",
    "            print(line, end='')\n",
    "        if p.returncode != (0 or None):\n",
    "            raise CalledProcessError(p.returncode, p.args)\n",
    "        return(instanceExists,ip)\n",
    "    \n",
    "            \n",
    "def text_prepender(filename, text):\n",
    "    with open(filename, 'r+') as f:\n",
    "        content = f.read()\n",
    "        f.seek(0, 0)\n",
    "        f.write(text.rstrip('\\r\\n') + content)\n",
    "        \n",
    "def replace(file,pattern,replace):\n",
    "    fileinput.close()\n",
    "    for line in fileinput.input(file, inplace=True):\n",
    "        print( re.sub(pattern,\n",
    "                      replace,\n",
    "                      line.rstrip()\n",
    "                      ) \n",
    "             )\n",
    "\n",
    "if (platform.system() == 'Windows'):\n",
    "    def generateSSHKey(username,savePath):\n",
    "        key = rsa.generate_private_key(\n",
    "            backend=crypto_default_backend(),\n",
    "            public_exponent=65537,\n",
    "            key_size=2048\n",
    "            )\n",
    "        private_key = key.private_bytes(\n",
    "            crypto_serialization.Encoding.PEM,\n",
    "            crypto_serialization.PrivateFormat.TraditionalOpenSSL,\n",
    "            crypto_serialization.NoEncryption()\n",
    "            )\n",
    "        public_key = key.public_key().public_bytes(\n",
    "            crypto_serialization.Encoding.OpenSSH,\n",
    "            crypto_serialization.PublicFormat.OpenSSH\n",
    "            )\n",
    "        public_file = os.path.join(savePath,username + '.pub')\n",
    "        private_file = os.path.join(savePath,username)\n",
    "        text_file = open(public_file, \"w\")\n",
    "        text_file.write(public_key.decode('utf-8') + ' ' + username)\n",
    "        text_file.close()\n",
    "        text_file = open(private_file, \"w\")\n",
    "        text_file.write(private_key.decode('utf-8'))\n",
    "        text_file.close()\n",
    "        print('Successfully created key pair')\n",
    "            \n",
    "if (platform.system() == 'Linux'):\n",
    "    def generateSSHKey(username,savePath):\n",
    "        p = Popen(\"echo 'yes' | ssh-keygen -t rsa -f {0}/{1} -C {1} -N '' \".format(savePath,username),\n",
    "              stdout=PIPE,\n",
    "              shell=True,\n",
    "              stderr=PIPE\n",
    "               )\n",
    "        print(p.communicate())    \n",
    "        \n",
    "#Asking for a password for the vnc server\n",
    "startViewer=True\n",
    "if startViewer:\n",
    "    password = getpass.getpass('Password for VNC server? ')"
   ]
  },
  {
   "cell_type": "markdown",
   "metadata": {},
   "source": [
    "# Automated compilation of the INCA core and its dependencies\n",
    "\n",
    "## Pre-requisites\n",
    "\n",
    "* gcloud command line utility\n",
    "* google cloud account, you might need to be an admin for some of this to work, also this is not free\n",
    "* ssh key setup in gitlab.au.dk\n",
    "* fabric3 needs to be (pip) installed\n",
    "* python modules listed in the first cell of this notebook\n",
    "* In order to avoid repeatedly creating ssh keys to log on to git up, mirror the INCA repository to google cloud and clone from there using gcloud. Do not forget to install git in the virtual machine as well as setting the necessary scopes (see below) for it to work."
   ]
  },
  {
   "cell_type": "markdown",
   "metadata": {},
   "source": [
    "## Creating an instance on Google Cloud"
   ]
  },
  {
   "cell_type": "code",
   "execution_count": null,
   "metadata": {},
   "outputs": [],
   "source": [
    "#Variables to set\n",
    "instanceName = 'core-base'\n",
    "username = 'jose-luis'\n",
    "keyDir = ('/home/jose-luis/.ssh/coreKeys')  #Dir where the ssh key to the instance will be stored"
   ]
  },
  {
   "cell_type": "code",
   "execution_count": null,
   "metadata": {},
   "outputs": [],
   "source": [
    "createInstance = '''\\\n",
    "gcloud compute instances create {} \\\n",
    "--zone europe-west3-a \\\n",
    "--image-family ubuntu-1604-lts \\\n",
    "--image-project ubuntu-os-cloud \\\n",
    "--machine-type n1-standard-2 \\\n",
    "--scopes=default,cloud-platform,https://www.googleapis.com/auth/source.full_control\n",
    "'''\n",
    "#--boot-disk-size 200GB \\\n",
    "#--image-family ubuntu-1604-lts \\ debian-9\n",
    "#--image-project ubuntu-os-cloud \\ debian-cloud\n",
    "#gcloud compute instance-templates create\n",
    "\n",
    "deleteInstance = '''\\\n",
    "gcloud compute instances delete {} \\\n",
    "--zone europe-west-3a \\\n",
    "'''\n",
    "\n",
    "listInstances = '''gcloud compute instances list'''\n",
    "\n",
    "addSSHKeys = '''gcloud compute instances add-metadata {} --zone europe-west3-a --metadata-from-file ssh-keys={}'''\n",
    "addFirewallRule = '''gcloud compute instances add-tags {} --zone europe-west3-a --tags vnc-server'''\n",
    "\n",
    "ip=''\n",
    "instanceExists,ip = isInstance(instanceName)\n",
    "\n",
    "if (ip != ''):\n",
    "    print('Instance {} is {}'.format(instanceName,ip) )\n",
    "\n",
    "isStarted = False\n",
    "if instanceExists and ip == 'TERMINATED' :\n",
    "    callPopen('gcloud compute instances start {} --zone europe-west3-a'.format(instanceName))\n",
    "    instanceExists,ip = isInstance(instanceName)\n",
    "    isStarted = True\n",
    "    print(\"Machine started and ip is {}\".format(ip))\n",
    "\n",
    "wasCreated=False\n",
    "if not instanceExists and not isStarted:\n",
    "    callPopen(createInstance.format(instanceName))\n",
    "    wasCreated=True\n",
    "    if os.path.exists(keyDir):\n",
    "        shutil.rmtree(keyDir)\n",
    "    os.mkdir(keyDir)\n",
    "    generateSSHKey(username,keyDir)\n",
    "    keyFile = os.path.join(keyDir,username + '.pub')\n",
    "    text_prepender('{}/{}.pub'.format(keyDir,username), '{}:'.format(username) )\n",
    "    callPopen(addSSHKeys.format(instanceName,keyDir + '/{}.pub'.format(username)))\n",
    "    callPopen(addFirewallRule.format(instanceName))\n",
    "    #callPopen('sed -i s/^{0}:// {1}/{0}.pub'.format(username,keyDir))\n",
    "    replace(keyFile,\"^{}:\".format(username),\"\")\n",
    "    ip=isInstance(instanceName)[1]\n",
    "    #callPopen('chmod 600 {}'.format(keyDir +'/' + username))\n",
    "        \n",
    "print(\"The ip of {} is {}\".format(instanceName,ip))"
   ]
  },
  {
   "cell_type": "markdown",
   "metadata": {},
   "source": [
    "## Getting link to download latest boost  and sqlite3 releases"
   ]
  },
  {
   "cell_type": "code",
   "execution_count": null,
   "metadata": {},
   "outputs": [],
   "source": [
    "#boost\n",
    "r = requests.get('https://www.boost.org/users/download/')\n",
    "soup = BeautifulSoup(r.text)\n",
    "table = soup.find( \"table\",{'class': 'download-table'})\n",
    "data=[]\n",
    "for link in table.find_all('a'):\n",
    "    data.append(link['href'])\n",
    "boostLink=[s for s in data if 'tar.gz' in s][0]\n",
    "print(boostLink)\n",
    "boostVersion=os.path.basename(boostLink).split('.')[0]\n",
    "\n",
    "#sqlite3\n",
    "#The webpage is rendered using JS so additional tricks are required\n",
    "#You need to download chromedriver and put it in a directory that's in the search path\n",
    "url='https://www.sqlite.org/download.html'\n",
    "opt = webdriver.ChromeOptions()\n",
    "opt.binary_location = '/usr/bin/google-chrome' #Point to the right location\n",
    "opt.add_argument('headless')\n",
    "browser = webdriver.Chrome(executable_path='./chromedriver',chrome_options=opt)\n",
    "browser.get(url)\n",
    "innerHTML = browser.execute_script(\"return document.body.innerHTML\")\n",
    "#print(innerHTML)\n",
    "soup = BeautifulSoup(innerHTML)\n",
    "table = soup.find( \"table\")\n",
    "table_body = table.find('tbody')\n",
    "data=[]\n",
    "for link in soup.find_all('a',id=True):\n",
    "    data.append(link['href'])\n",
    "sqliteLink='https://www.sqlite.org/' + [s for s in data if 'autoconf' in s][0]\n",
    "print(sqliteLink)"
   ]
  },
  {
   "cell_type": "markdown",
   "metadata": {},
   "source": [
    "## Updating fabfile.py with credentials and ip"
   ]
  },
  {
   "cell_type": "code",
   "execution_count": null,
   "metadata": {},
   "outputs": [],
   "source": [
    "callPopen(\"sed -i s/^env\\.hosts.*/env.hosts=\\['{}']/ fabfile.py\".format(ip))\n",
    "callPopen(\"sed -i s/^env\\.user.*/env.user=\\'{}\\'/ fabfile.py\".format(username))\n",
    "callPopen(\"sed -i s$^env\\.key_filename.*$env\\.key_filename='{}'$ fabfile.py\".format(keyDir + '/' + username))\n",
    "callPopen(\"sed -i s/^env\\.roledefs.*/env.roledefs={{\\\\'{}\\\\':[\\\\'{}\\\\'],/ fabfile.py\".format('stage',ip))"
   ]
  },
  {
   "cell_type": "markdown",
   "metadata": {},
   "source": [
    "## Testing connection"
   ]
  },
  {
   "cell_type": "code",
   "execution_count": null,
   "metadata": {},
   "outputs": [],
   "source": [
    "time.sleep(5) #sometimes the fabfile editing takes too long and the connection fails\n",
    "#we use sleep to avoid that. Alternatively, we should use subprocess.wait() in the above cell\n",
    "# and modify Popen\n",
    "\n",
    "#Testing connection\n",
    "#Adding key to remote machine\n",
    "callPopen(\"ssh -i {0}/{1} {1}@{2} -o UserKnownHostsFile=/dev/null -o StrictHostKeyChecking=no\".format(keyDir,username,ip))\n",
    "#p = Popen(\"ssh -i {0}/{1} {1}@{2} -o UserKnownHostsFile=/dev/null -o StrictHostKeyChecking=no\".format(keyDir,username,ip),shell=True,stdout=PIPE,stdin=PIPE)\n",
    "#p.wait()\n",
    "#print(p.communicate())"
   ]
  },
  {
   "cell_type": "markdown",
   "metadata": {},
   "source": [
    "## Editing core makefile to point to the right directories"
   ]
  },
  {
   "cell_type": "code",
   "execution_count": null,
   "metadata": {},
   "outputs": [],
   "source": [
    "file=\"./Makefile\"\n",
    "replace(file, \"^CND\\\\_PLATFORM=.*\", \"CND_PLATFORM={}\".format(\"Linux\"))\n",
    "replace(file, \"^BASEDIR=.*\",        \"BASEDIR={}\".format(\"/home/\" + username))\n",
    "replace(file, \"^BOOSTDIR=.*\",       \"BOOSTDIR=$(BASEDIR)/{}\".format(boostVersion))\n",
    "replace(file, \"^TINYXMLDIR=.*\",     \"TINYXMLDIR={}\".format(\"$(BASEDIR)/tinyxml2\"))\n",
    "replace(file, \"^INCASRC=.*\",        \"INCASRC={}\".format(\"${BASEDIR}/INCA/src\"))\n",
    "replace(file, \"^INCAINC=.*\",        \"INCAINC={}\".format(\"${BASEDIR}/INCA/include\"))\n",
    "replace(file, \"^SQLITEDIR=.*\",      \"SQLITEDIR={}\".format(\"$(BASEDIR)/sqlite\"))\n",
    "replace(file, \"^PREFIX=.*\",         \"PREFIX={}\".format(\"/home/\" + username + \"/local\"))"
   ]
  },
  {
   "cell_type": "markdown",
   "metadata": {},
   "source": [
    "## Editing libraries makefile to point to the right directories"
   ]
  },
  {
   "cell_type": "code",
   "execution_count": null,
   "metadata": {},
   "outputs": [],
   "source": [
    "file=\"./Makelib\"\n",
    "replace(file, \"^CND\\\\_PLATFORM=.*\", \"CND_PLATFORM={}\".format(\"Linux\"))\n",
    "replace(file, \"^BASEDIR=.*\",        \"BASEDIR={}\".format(\"/home/\" + username))\n",
    "replace(file, \"^BOOSTDIR=.*\",       \"BOOSTDIR=$(BASEDIR)/{}\".format(boostVersion))\n",
    "replace(file, \"^TINYXMLDIR=.*\",     \"TINYXMLDIR={}\".format(\"$(BASEDIR)/tinyxml2\"))\n",
    "replace(file, \"^INCASRC=.*\",        \"INCASRC={}\".format(\"${BASEDIR}/INCA/src\"))\n",
    "replace(file, \"^INCAINC=.*\",        \"INCAINC={}\".format(\"${BASEDIR}/INCA/include\"))\n",
    "replace(file, \"^SQLITEDIR=.*\",      \"SQLITEDIR={}\".format(\"$(BASEDIR)/sqlite\"))\n",
    "replace(file, \"^PREFIX=.*\",         \"PREFIX={}\".format(\"/home/\" + username + \"/local\"))"
   ]
  },
  {
   "cell_type": "markdown",
   "metadata": {},
   "source": [
    "## Editing tests makefile to point to the right directories"
   ]
  },
  {
   "cell_type": "code",
   "execution_count": null,
   "metadata": {},
   "outputs": [],
   "source": [
    "file=\"./Maketests\"\n",
    "replace(file, \"^CND\\\\_PLATFORM=.*\", \"CND_PLATFORM={}\".format(\"Linux\"))\n",
    "replace(file, \"^BASEDIR=.*\",        \"BASEDIR={}\".format(\"/home/\" + username))\n",
    "replace(file, \"^BOOSTDIR=.*\",       \"BOOSTDIR=$(BASEDIR)/{}\".format(boostVersion))\n",
    "replace(file, \"^TINYXMLDIR=.*\",     \"TINYXMLDIR={}\".format(\"$(BASEDIR)/tinyxml2\"))\n",
    "replace(file, \"^INCASRC=.*\",        \"INCASRC={}\".format(\"${BASEDIR}/INCA/src\"))\n",
    "replace(file, \"^INCAINC=.*\",        \"INCAINC={}\".format(\"${BASEDIR}/INCA/include\"))\n",
    "replace(file, \"^SQLITEDIR=.*\",      \"SQLITEDIR={}\".format(\"$(BASEDIR)/sqlite\"))\n",
    "replace(file, \"^PREFIX=.*\",         \"PREFIX={}\".format(\"/home/\" + username + \"/local\"))"
   ]
  },
  {
   "cell_type": "markdown",
   "metadata": {},
   "source": [
    "## Setting up the INCA core in the remote machine"
   ]
  },
  {
   "cell_type": "code",
   "execution_count": null,
   "metadata": {
    "scrolled": true
   },
   "outputs": [],
   "source": [
    "time.sleep(5) #to allow the file edits to complete\n",
    "callPopen('fab testConnection')\n",
    "callPopen(\"fab getUtilities\")\n",
    "if startViewer:\n",
    "    callPopen(\"fab getGnomeAndVNC:'{}'\".format(password))\n",
    "callPopen(\"fab downloadSources:'{}','{}'\".format(boostLink,sqliteLink))\n",
    "callPopen('fab compileModels')\n",
    "callPopen('fab examples')\n",
    "callPopen('fab tests')\n",
    "callPopen('fab setEnv')"
   ]
  },
  {
   "cell_type": "code",
   "execution_count": null,
   "metadata": {},
   "outputs": [],
   "source": [
    "#Starting vncserver on remote machine\n",
    "if startViewer:\n",
    "    callPopen(\"fab startVNCServer\")\n",
    "# Creating an auto-closing tunnel for vncviewer and starting it\n",
    "#Haven't figured out the syntax for subprocess.Popen and using os.system instead\n",
    "#callPopen( \"ssh -i {0}/{1} -f -L 5901:127.0.0.1:5901 -l {1} {2} sleep 10; vncviewer localhost:5901 &\".\n",
    "#format(keyDir,username,ip))\n",
    "    system(\"ssh -f -i {0}/{1} -L 5901:127.0.0.1:5901 -l {1} {2} sleep 10; vncviewer localhost:5901 &\".format(keyDir,username,ip))"
   ]
  },
  {
   "cell_type": "markdown",
   "metadata": {},
   "source": [
    "## Setting up instance as a template"
   ]
  },
  {
   "cell_type": "code",
   "execution_count": null,
   "metadata": {},
   "outputs": [],
   "source": [
    "createTemplate=False\n",
    "cmd='''gcloud compute instance-templates create core-template \\\n",
    "    --source-instance={} \\\n",
    "    --source-instance-zone=europe-west3-a \\\n",
    " '''.format(instanceName)\n",
    "\n",
    "if createTemplate:\n",
    "    callPopen(cmd)"
   ]
  }
 ],
 "metadata": {
  "kernelspec": {
   "display_name": "Python 3",
   "language": "python",
   "name": "python3"
  },
  "language_info": {
   "codemirror_mode": {
    "name": "ipython",
    "version": 3
   },
   "file_extension": ".py",
   "mimetype": "text/x-python",
   "name": "python",
   "nbconvert_exporter": "python",
   "pygments_lexer": "ipython3",
   "version": "3.6.3"
  }
 },
 "nbformat": 4,
 "nbformat_minor": 2
}
